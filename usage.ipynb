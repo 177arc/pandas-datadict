{
 "cells": [
  {
   "cell_type": "markdown",
   "metadata": {},
   "source": [
    "# Data Dictionary for pandas\n",
    "\n",
    "The data dictionary consists at least of the following columns:\n",
    "* `Data Set`: Used when mapping in combination with `Field` to rename to the column to `Name`.\n",
    "* `Field`: Column name of the data frame to map to `Name`.\n",
    "* `Name`: Column name that is unique throughout the data dictionary.\n",
    "* `Description`: Description of the column name. This can be used to provide additional information when displaying the data frame.\n",
    "* `Type`: Type the column should be cast to.\n",
    "* `Format`: Format to use when values need to be converted to a string representation. The format string has to be a Python format string such as `{:.0f}%`\n",
    "\n",
    "The data dictionary can either be loaded from a CSV file or from a data frame.\n",
    "\n",
    "## Installation\n",
    "\n",
    "### Using pip\n",
    "\n",
    "You can install using the pip package manager by running\n",
    "\n",
    "    pip install pandas-datadict\n",
    "\n",
    "Alternatively, you could install directly from Github:\n",
    "\n",
    "    pip install https://github.com/177arc/pandas-datadict/archive/master.zip\n",
    "\n",
    "### From source\n",
    "\n",
    "Download the source code by cloning the repository or by pressing [Download ZIP](https://github.com/177arc/pandas-datadict/archive/master.zip) on this page.\n",
    "Install by navigating to the proper directory and running\n",
    "\n",
    "    python setup.py install\n",
    "\n",
    "## Usage"
   ]
  },
  {
   "cell_type": "markdown",
   "metadata": {},
   "source": [
    "### Jupyter Notebook\n",
    "When using the data dictionary within Jupyter notebooks, additional functionality for displaying a data frame is available when importing the `datadict.jupyter` package. For example, to display a data frame with its column descriptions:\n"
   ]
  },
  {
   "cell_type": "code",
   "execution_count": 11,
   "metadata": {
    "ExecuteTime": {
     "end_time": "2019-10-30T22:06:52.563190Z",
     "start_time": "2019-10-30T22:06:52.440519Z"
    }
   },
   "outputs": [
    {
     "data": {
      "application/vnd.jupyter.widget-view+json": {
       "model_id": "8f65920f528248098d5f09a0ae554edc",
       "version_major": 2,
       "version_minor": 0
      },
      "text/plain": [
       "VBox(children=(Output(), HBox(children=(HTML(value='3 rows x 5 columns'), HTML(value=' | <a href=\"cache\\\\data.…"
      ]
     },
     "metadata": {},
     "output_type": "display_data"
    }
   ],
   "source": [
    "import pandas as pd\n",
    "from datetime import datetime\n",
    "from datadict.jupyter import DataDict # IMPORTANT: import from datadict.jupyter instead of datadict\n",
    "\n",
    "# Load data dictionary from file\n",
    "dd = DataDict(data_dict_file='data_dict.csv')\n",
    "\n",
    "# Create example data frame.\n",
    "data = {0: ['value 1', 1, True, 1.1, datetime(2019, 1, 1)],\n",
    "        1: ['value 2', 2, False, 1.2, datetime(2019, 1, 2)],\n",
    "        2: ['value 3', 3, None, None, None]}\n",
    "data_df = pd.DataFrame.from_dict(data, orient='index', columns=['Name 1', 'Name 2', 'Name 3', 'Name 4', 'Name 5'])\n",
    "\n",
    "# Remap the columns of the data frame using the data dictionary\n",
    "df = dd.remap(data_df, 'data_set_1')\n",
    "\n",
    "# Display the data frame with formatted values, column descriptions and an option to export to Excel\n",
    "dd.display(df, excel_file='data.xlsx')"
   ]
  },
  {
   "cell_type": "markdown",
   "metadata": {},
   "source": [
    "### Pure Python with data dictionary data frame\n",
    "To use a data dictionary data frame to remap columns of a given data frame:"
   ]
  },
  {
   "cell_type": "code",
   "execution_count": 7,
   "metadata": {
    "ExecuteTime": {
     "end_time": "2019-10-30T22:05:08.446777Z",
     "start_time": "2019-10-30T22:05:08.414862Z"
    }
   },
   "outputs": [
    {
     "name": "stdout",
     "output_type": "stream",
     "text": [
      "    Name 1 Name 2 Name 3 Name 4            Name 5\n",
      "0  value 1      1   True  £1.1m  January 01, 2019\n",
      "1  value 2      2  False  £1.2m  January 02, 2019\n",
      "2  value 3      3      -      -                 -\n"
     ]
    }
   ],
   "source": [
    "import pandas as pd\n",
    "from datetime import datetime\n",
    "from datadict import DataDict\n",
    "\n",
    "# Create data dictionary from data frame\n",
    "dd = DataDict(data_dict=pd.DataFrame.from_dict(orient='index',\n",
    "       data={0: ['data_set_1', 'field_1', 'Name 1', 'Description 1', 'str', '{:s}'],\n",
    "             1: ['data_set_1', 'field_2', 'Name 2', 'Description 2', 'int', '{:d}'],\n",
    "             2: ['data_set_1', 'field_3', 'Name 3', 'Description 3', 'bool', '{:}'],\n",
    "             3: ['data_set_1', 'field_4', 'Name 4', 'Description 4', 'float', '£{:.1f}m'],\n",
    "             4: ['data_set_1', 'field_5', 'Name 5', 'Description 5', 'datetime64', '{:%B %d, %Y}']},\n",
    "       columns=['Data Set', 'Field', 'Name', 'Description', 'Type', 'Format']))\n",
    "\n",
    "# Create example data frame.\n",
    "data = {0: ['value 1', 1, True, 1.1, datetime(2019, 1, 1)],\n",
    "        1: ['value 2', 2, False, 1.2, datetime(2019, 1, 2)],\n",
    "        2: ['value 3', 3, None, None, None]}\n",
    "data_df = pd.DataFrame.from_dict(data, orient='index', columns=['Name 1', 'Name 2', 'Name 3', 'Name 4', 'Name 5'])\n",
    "\n",
    "# Remap the columns of the data frame using the data dictionary\n",
    "df = dd.remap(data_df, 'data_set_1')\n",
    "\n",
    "# Print the data frame with formatted values\n",
    "print(dd.format(df))"
   ]
  },
  {
   "cell_type": "markdown",
   "metadata": {},
   "source": [
    "### Pure Python with data dictionary file\n",
    "To use a data dictionary file, such as [data_dict.csv](https://github.com/177arc/pandas-datadict/blob/master/tests/data_dict.csv), to remap the columns of a data frame:"
   ]
  },
  {
   "cell_type": "code",
   "execution_count": 12,
   "metadata": {
    "ExecuteTime": {
     "end_time": "2019-10-30T22:07:06.661467Z",
     "start_time": "2019-10-30T22:07:06.623568Z"
    }
   },
   "outputs": [
    {
     "name": "stdout",
     "output_type": "stream",
     "text": [
      "    Name 1 Name 2 Name 3 Name 4            Name 5\n",
      "0  value 1      1   True  £1.1m  January 01, 2019\n",
      "1  value 2      2  False  £1.2m  January 02, 2019\n",
      "2  value 3      3      -      -                 -\n"
     ]
    }
   ],
   "source": [
    "import pandas as pd\n",
    "from datetime import datetime\n",
    "from datadict import DataDict\n",
    "\n",
    "# Load data dictionary from file\n",
    "dd = DataDict(data_dict_file='data_dict.csv')\n",
    "\n",
    "# Create example data frame.\n",
    "data = {0: ['value 1', 1, True, 1.1, datetime(2019, 1, 1)],\n",
    "        1: ['value 2', 2, False, 1.2, datetime(2019, 1, 2)],\n",
    "        2: ['value 3', 3, None, None, None]}\n",
    "data_df = pd.DataFrame.from_dict(data, orient='index', columns=['Name 1', 'Name 2', 'Name 3', 'Name 4', 'Name 5'])\n",
    "\n",
    "# Remap the columns of the data frame using the data dictionary\n",
    "df = dd.remap(data_df, 'data_set_1')\n",
    "\n",
    "# Print the data frame with formatted values\n",
    "print(dd.format(df))"
   ]
  },
  {
   "cell_type": "markdown",
   "metadata": {},
   "source": [
    "## Documentation\n",
    "\n",
    "For the code documentation, please visit the documentation [Github Pages](https://177arc.github.io/pandas-datadict/docs/datadict/).\n",
    "\n",
    "## Contributing\n",
    "\n",
    "1. Fork the repository on GitHub.\n",
    "2. Run the tests with `python -m pytest tests/` to confirm they all pass on your system.\n",
    "   If the tests fail, then try and find out why this is happening. If you aren't\n",
    "   able to do this yourself, then don't hesitate to either create an issue on\n",
    "   GitHub, contact me on Discord or send an email to [py@177arc.net](mailto:py@177arc.net>).\n",
    "3. Either create your feature and then write tests for it, or do this the other\n",
    "   way around.\n",
    "4. Run all tests again with with `python -m pytest tests/` to confirm that everything\n",
    "   still passes, including your newly added test(s).\n",
    "5. Create a pull request for the main repository's ``master`` branch."
   ]
  }
 ],
 "metadata": {
  "hide_input": false,
  "kernelspec": {
   "display_name": "Python 3",
   "language": "python",
   "name": "python3"
  },
  "language_info": {
   "codemirror_mode": {
    "name": "ipython",
    "version": 3
   },
   "file_extension": ".py",
   "mimetype": "text/x-python",
   "name": "python",
   "nbconvert_exporter": "python",
   "pygments_lexer": "ipython3",
   "version": "3.6.8"
  },
  "varInspector": {
   "cols": {
    "lenName": 16,
    "lenType": 16,
    "lenVar": 40
   },
   "kernels_config": {
    "python": {
     "delete_cmd_postfix": "",
     "delete_cmd_prefix": "del ",
     "library": "var_list.py",
     "varRefreshCmd": "print(var_dic_list())"
    },
    "r": {
     "delete_cmd_postfix": ") ",
     "delete_cmd_prefix": "rm(",
     "library": "var_list.r",
     "varRefreshCmd": "cat(var_dic_list()) "
    }
   },
   "types_to_exclude": [
    "module",
    "function",
    "builtin_function_or_method",
    "instance",
    "_Feature"
   ],
   "window_display": false
  }
 },
 "nbformat": 4,
 "nbformat_minor": 2
}
